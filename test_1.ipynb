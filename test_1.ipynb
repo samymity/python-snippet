{
  "nbformat": 4,
  "nbformat_minor": 0,
  "metadata": {
    "colab": {
      "provenance": [],
      "authorship_tag": "ABX9TyPQ5H0IeUaNNIfBr36YKmlG",
      "include_colab_link": true
    },
    "kernelspec": {
      "name": "python3",
      "display_name": "Python 3"
    },
    "language_info": {
      "name": "python"
    }
  },
  "cells": [
    {
      "cell_type": "markdown",
      "metadata": {
        "id": "view-in-github",
        "colab_type": "text"
      },
      "source": [
        "<a href=\"https://colab.research.google.com/github/samymity/python-snippet/blob/main/test_1.ipynb\" target=\"_parent\"><img src=\"https://colab.research.google.com/assets/colab-badge.svg\" alt=\"Open In Colab\"/></a>"
      ]
    },
    {
      "cell_type": "code",
      "execution_count": null,
      "metadata": {
        "colab": {
          "base_uri": "https://localhost:8080/"
        },
        "id": "RorpMqQmAYrv",
        "outputId": "ddabfa6b-d136-4b71-f41a-c4cee05d42cb"
      },
      "outputs": [
        {
          "output_type": "stream",
          "name": "stdout",
          "text": [
            "sandeep\n"
          ]
        }
      ],
      "source": [
        "print(\"sandeep\")"
      ]
    },
    {
      "cell_type": "code",
      "source": [
        "# Sample string array\n",
        "string_array = [\"apples\", \"banana\", \"cherry\"]\n",
        "\n",
        "# Using lambda to reverse the string array\n",
        "reversed_array = list(map(lambda x: x[::-1], string_array))\n",
        "\n",
        "print(reversed_array)"
      ],
      "metadata": {
        "id": "ia0jI14jB-PD",
        "outputId": "0b1154ee-3fd9-4aff-9e04-11eee05b10e2",
        "colab": {
          "base_uri": "https://localhost:8080/"
        }
      },
      "execution_count": null,
      "outputs": [
        {
          "output_type": "stream",
          "name": "stdout",
          "text": [
            "['elppa', 'ananab', 'yrrehc']\n"
          ]
        }
      ]
    }
  ]
}